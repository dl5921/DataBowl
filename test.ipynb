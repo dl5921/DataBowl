{
 "cells": [
  {
   "cell_type": "code",
   "execution_count": 58,
   "metadata": {},
   "outputs": [],
   "source": [
    "import pandas as pd\n",
    "from collections import defaultdict\n",
    "import warnings\n",
    "warnings.simplefilter(action='ignore', category=pd.errors.SettingWithCopyWarning)\n",
    "\n",
    "\n"
   ]
  },
  {
   "cell_type": "code",
   "execution_count": 59,
   "metadata": {},
   "outputs": [
    {
     "name": "stdout",
     "output_type": "stream",
     "text": [
      "Total plays with motion: 108636\n",
      "Total plays without motion: 246091\n"
     ]
    }
   ],
   "source": [
    "# 'player_play' as dataframe\n",
    "player_play = pd.read_csv('data/player_play.csv')\n",
    "\n",
    "# filtered 'player_play' for only rows with player in motion\n",
    "player_play_motion_only = player_play[player_play['motionSinceLineset'] == 1]\n",
    "\n",
    "# store motion play's gameId and playId\n",
    "motion_play_ids = player_play_motion_only[['gameId', 'playId']].values.tolist()\n",
    "motion_play_ids_set = set(map(tuple, motion_play_ids))\n",
    "\n",
    "# 'motion_plays' to for all plays that included motion\n",
    "motion_plays = player_play[player_play[['gameId', 'playId']].apply(tuple, axis=1).isin(motion_play_ids_set)]\n",
    "print('Total plays with motion: ' + str(len(motion_plays)))\n",
    "\n",
    "# 'no_motion_plays' for all plays that did not include motion\n",
    "no_motion_plays = player_play[~player_play[['gameId', 'playId']].apply(tuple, axis=1).isin(motion_play_ids_set)]\n",
    "print('Total plays without motion: ' + str(len(no_motion_plays)))\n"
   ]
  },
  {
   "cell_type": "code",
   "execution_count": 60,
   "metadata": {},
   "outputs": [
    {
     "name": "stdout",
     "output_type": "stream",
     "text": [
      "Pressure rate, plays with motion 0.222154718509518\n",
      "Pressure rate, plays without motion 0.19408188807437868\n"
     ]
    }
   ],
   "source": [
    "def calcBooleanRate(df, colName):\n",
    "    \n",
    "    occurrances = df[df[colName] == 1]\n",
    "    occurance_play_ids = occurrances[['gameId', 'playId']].values.tolist()\n",
    "    occurance_play_ids = set(map(tuple, occurance_play_ids))\n",
    "    \n",
    "    all_play_ids = df[['gameId', 'playId']].values.tolist()\n",
    "    all_play_ids = set(map(tuple, all_play_ids))\n",
    "    \n",
    "    return len(occurance_play_ids)/len(all_play_ids)\n",
    "\n",
    "print('Pressure rate, plays with motion ' + str(calcBooleanRate(motion_plays, 'causedPressure')))\n",
    "print('Pressure rate, plays without motion ' + str(calcBooleanRate(no_motion_plays, 'causedPressure')))\n",
    "    "
   ]
  },
  {
   "cell_type": "code",
   "execution_count": 61,
   "metadata": {},
   "outputs": [],
   "source": [
    "# Define motion man for motion_plays dataframe\n",
    "player_play_motion_only = motion_plays[motion_plays['motionSinceLineset'] == 1]\n",
    "\n",
    "# store motion play's gameId and playId and nflId\n",
    "motion_nfl_ids = player_play_motion_only[['gameId', 'playId','nflId']].values.tolist()\n",
    "\n",
    "# account for duplicates (plays with more than one man in motion)\n",
    "motion_nfl_ids_dict = defaultdict(list)\n",
    "\n",
    "for entry in motion_nfl_ids:\n",
    "    key = (entry[0], entry[1])  # First two items as the key\n",
    "    motion_nfl_ids_dict[key].append(entry[2])  # Append the third item\n",
    "\n",
    "# Add motion player back into ALL rows of motion_plays\n",
    "motion_plays.loc[:, 'playersInMotion'] = motion_plays.apply(\n",
    "    lambda row: motion_nfl_ids_dict.get((row['gameId'], row['playId']), None), \n",
    "    axis=1\n",
    ")\n"
   ]
  },
  {
   "cell_type": "code",
   "execution_count": 62,
   "metadata": {},
   "outputs": [
    {
     "name": "stdout",
     "output_type": "stream",
     "text": [
      "{'TE', 'QB', 'FB', 'WR', 'RB'}\n",
      "positionsInMotion\n",
      "[WR]                    41316\n",
      "[TE]                    24684\n",
      "[RB]                    23738\n",
      "[FB]                     3718\n",
      "[TE, WR]                 2090\n",
      "                        ...  \n",
      "[RB, FB, WR]               22\n",
      "[TE, TE, RB, TE]           22\n",
      "[WR, WR, WR, TE, RB]       22\n",
      "[TE, RB, WR, WR]           22\n",
      "[TE, RB, TE, WR, TE]       22\n",
      "Name: count, Length: 81, dtype: int64\n"
     ]
    }
   ],
   "source": [
    "# 'players' as dataframe\n",
    "players = pd.read_csv('data/players.csv')\n",
    "\n",
    "# Create a dictionary for quick lookup of positions by nflId\n",
    "position_lookup = dict(zip(players['nflId'], players['position']))\n",
    "\n",
    "# Add a new column to df1 that maps playersInMotion to positions\n",
    "motion_plays.loc[:, 'positionsInMotion'] = motion_plays['playersInMotion'].apply(\n",
    "    lambda players: [position_lookup.get(player, None) for player in players]\n",
    ")\n",
    "\n",
    "# Flatten the lists in 'positionsInMotion' and get unique values\n",
    "unique_positions = set(position for positions in motion_plays['positionsInMotion'] for position in positions)\n",
    "\n",
    "# Print the unique positions\n",
    "print(unique_positions)\n",
    "\n",
    "# Print amount of plays with different combinations of motion man\n",
    "print(motion_plays['positionsInMotion'].value_counts())\n",
    "\n"
   ]
  },
  {
   "cell_type": "code",
   "execution_count": 76,
   "metadata": {},
   "outputs": [
    {
     "name": "stdout",
     "output_type": "stream",
     "text": [
      "['WR', 'RB', 'FB', 'TE', 'TE,WR,WR', 'WR,RB', 'WR,WR,RB', 'TE,WR', 'WR,WR,TE,RB,WR', 'WR,WR', 'WR,TE', 'WR,WR,TE,RB', 'TE,TE', 'RB,TE,WR', 'RB,TE', 'QB', 'FB,TE', 'FB,WR', 'RB,TE,TE', 'TE,TE,WR', 'TE,WR,TE', 'QB,TE,FB', 'RB,FB', 'TE,RB', 'RB,WR', 'TE,TE,RB', 'WR,TE,WR', 'TE,FB', 'WR,WR,TE,WR,RB', 'WR,WR,RB,TE,WR', 'WR,RB,WR', 'WR,WR,WR', 'WR,TE,RB', 'TE,RB,TE', 'TE,RB,WR', 'RB,WR,WR,WR', 'RB,WR,WR', 'RB,TE,TE,TE', 'WR,FB', 'RB,WR,TE', 'RB,RB', 'WR,TE,RB,WR,WR', 'QB,FB', 'TE,WR,RB', 'RB,WR,WR,TE', 'WR,RB,TE,WR,WR', 'TE,RB,WR,TE,TE', 'TE,WR,TE,RB', 'FB,WR,TE', 'WR,WR,TE', 'FB,RB', 'RB,WR,TE,TE', 'RB,TE,WR,TE,TE', 'WR,TE,TE,WR', 'WR,RB,TE,TE', 'TE,RB,TE,TE', 'WR,TE,WR,WR,RB', 'WR,RB,TE', 'WR,RB,TE,WR,TE', 'WR,TE,TE', 'WR,WR,RB,WR,TE', 'WR,RB,TE,WR', 'WR,FB,WR', 'WR,TE,TE,WR,RB', 'WR,TE,RB,WR,RB', 'FB,WR,TE,TE,RB', 'TE,TE,TE', 'RB,WR,TE,FB,WR', 'WR,TE,FB,WR', 'WR,TE,RB,WR', 'WR,FB,RB', 'RB,RB,TE,RB,TE', 'WR,TE,WR,RB', 'WR,RB,TE,TE,TE', 'WR,RB,WR,TE', 'WR,RB,WR,WR,TE', 'RB,FB,WR', 'TE,TE,RB,TE', 'WR,WR,WR,TE,RB', 'TE,RB,WR,WR', 'TE,RB,TE,WR,TE', 'None']\n"
     ]
    }
   ],
   "source": [
    "# Recombine motion_plays and no_motion_plays\n",
    "no_motion_plays['playersInMotion'] = [['None'] for _ in range(len(no_motion_plays))]\n",
    "no_motion_plays['positionsInMotion'] = [['None'] for _ in range(len(no_motion_plays))]\n",
    "\n",
    "player_play = pd.concat([motion_plays, no_motion_plays], ignore_index=True)\n",
    "player_play['positionsInMotionStr'] = player_play['positionsInMotion'].apply(lambda x: ','.join(x))\n",
    "\n",
    "# Find unique combinations (preserving the lists as they are)\n",
    "positionsInMotion = player_play['positionsInMotionStr'].unique().tolist()\n",
    "print(positionsInMotion)\n"
   ]
  },
  {
   "cell_type": "code",
   "execution_count": 77,
   "metadata": {},
   "outputs": [
    {
     "name": "stdout",
     "output_type": "stream",
     "text": [
      "Positions in motion: WR , Pressure rate: 0.22949946751863684\n",
      "Positions in motion: RB , Pressure rate: 0.2020389249304912\n",
      "Positions in motion: FB , Pressure rate: 0.1952662721893491\n",
      "Positions in motion: TE , Pressure rate: 0.22103386809269163\n",
      "Positions in motion: TE,WR,WR , Pressure rate: 0.0\n",
      "Positions in motion: WR,RB , Pressure rate: 0.23809523809523808\n",
      "Positions in motion: WR,WR,RB , Pressure rate: 0.3333333333333333\n",
      "Positions in motion: TE,WR , Pressure rate: 0.16842105263157894\n",
      "Positions in motion: WR,WR,TE,RB,WR , Pressure rate: 0.5\n",
      "Positions in motion: WR,WR , Pressure rate: 0.3387096774193548\n",
      "Positions in motion: WR,TE , Pressure rate: 0.1625\n",
      "Positions in motion: WR,WR,TE,RB , Pressure rate: 0.0\n",
      "Positions in motion: TE,TE , Pressure rate: 0.13333333333333333\n",
      "Positions in motion: RB,TE,WR , Pressure rate: 0.0\n",
      "Positions in motion: RB,TE , Pressure rate: 0.26666666666666666\n",
      "Positions in motion: QB , Pressure rate: 0.2727272727272727\n",
      "Positions in motion: FB,TE , Pressure rate: 0.1\n",
      "Positions in motion: FB,WR , Pressure rate: 0.0\n",
      "Positions in motion: RB,TE,TE , Pressure rate: 0.2857142857142857\n",
      "Positions in motion: TE,TE,WR , Pressure rate: 0.0\n",
      "Positions in motion: TE,WR,TE , Pressure rate: 0.6666666666666666\n",
      "Positions in motion: QB,TE,FB , Pressure rate: 0.0\n",
      "Positions in motion: RB,FB , Pressure rate: 0.0\n",
      "Positions in motion: TE,RB , Pressure rate: 0.18181818181818182\n",
      "Positions in motion: RB,WR , Pressure rate: 0.4107142857142857\n",
      "Positions in motion: TE,TE,RB , Pressure rate: 0.0\n",
      "Positions in motion: WR,TE,WR , Pressure rate: 0.6666666666666666\n",
      "Positions in motion: TE,FB , Pressure rate: 0.25\n",
      "Positions in motion: WR,WR,TE,WR,RB , Pressure rate: 0.5\n",
      "Positions in motion: WR,WR,RB,TE,WR , Pressure rate: 0.0\n",
      "Positions in motion: WR,RB,WR , Pressure rate: 0.6666666666666666\n",
      "Positions in motion: WR,WR,WR , Pressure rate: 0.3333333333333333\n",
      "Positions in motion: WR,TE,RB , Pressure rate: 0.2222222222222222\n",
      "Positions in motion: TE,RB,TE , Pressure rate: 0.25\n",
      "Positions in motion: TE,RB,WR , Pressure rate: 0.16666666666666666\n",
      "Positions in motion: RB,WR,WR,WR , Pressure rate: 0.0\n",
      "Positions in motion: RB,WR,WR , Pressure rate: 0.0\n",
      "Positions in motion: RB,TE,TE,TE , Pressure rate: 0.0\n",
      "Positions in motion: WR,FB , Pressure rate: 0.0\n",
      "Positions in motion: RB,WR,TE , Pressure rate: 0.0\n",
      "Positions in motion: RB,RB , Pressure rate: 0.2857142857142857\n",
      "Positions in motion: WR,TE,RB,WR,WR , Pressure rate: 1.0\n",
      "Positions in motion: QB,FB , Pressure rate: 0.0\n",
      "Positions in motion: TE,WR,RB , Pressure rate: 0.5\n",
      "Positions in motion: RB,WR,WR,TE , Pressure rate: 1.0\n",
      "Positions in motion: WR,RB,TE,WR,WR , Pressure rate: 0.3333333333333333\n",
      "Positions in motion: TE,RB,WR,TE,TE , Pressure rate: 0.0\n",
      "Positions in motion: TE,WR,TE,RB , Pressure rate: 0.0\n",
      "Positions in motion: FB,WR,TE , Pressure rate: 0.0\n",
      "Positions in motion: WR,WR,TE , Pressure rate: 0.3333333333333333\n",
      "Positions in motion: FB,RB , Pressure rate: 0.0\n",
      "Positions in motion: RB,WR,TE,TE , Pressure rate: 1.0\n",
      "Positions in motion: RB,TE,WR,TE,TE , Pressure rate: 1.0\n",
      "Positions in motion: WR,TE,TE,WR , Pressure rate: 0.0\n",
      "Positions in motion: WR,RB,TE,TE , Pressure rate: 0.0\n",
      "Positions in motion: TE,RB,TE,TE , Pressure rate: 0.5\n",
      "Positions in motion: WR,TE,WR,WR,RB , Pressure rate: 0.0\n",
      "Positions in motion: WR,RB,TE , Pressure rate: 0.6666666666666666\n",
      "Positions in motion: WR,RB,TE,WR,TE , Pressure rate: 1.0\n",
      "Positions in motion: WR,TE,TE , Pressure rate: 1.0\n",
      "Positions in motion: WR,WR,RB,WR,TE , Pressure rate: 1.0\n",
      "Positions in motion: WR,RB,TE,WR , Pressure rate: 0.0\n",
      "Positions in motion: WR,FB,WR , Pressure rate: 0.0\n",
      "Positions in motion: WR,TE,TE,WR,RB , Pressure rate: 0.0\n",
      "Positions in motion: WR,TE,RB,WR,RB , Pressure rate: 0.0\n",
      "Positions in motion: FB,WR,TE,TE,RB , Pressure rate: 1.0\n",
      "Positions in motion: TE,TE,TE , Pressure rate: 0.5\n",
      "Positions in motion: RB,WR,TE,FB,WR , Pressure rate: 1.0\n",
      "Positions in motion: WR,TE,FB,WR , Pressure rate: 0.0\n",
      "Positions in motion: WR,TE,RB,WR , Pressure rate: 1.0\n",
      "Positions in motion: WR,FB,RB , Pressure rate: 0.0\n",
      "Positions in motion: RB,RB,TE,RB,TE , Pressure rate: 1.0\n",
      "Positions in motion: WR,TE,WR,RB , Pressure rate: 0.0\n",
      "Positions in motion: WR,RB,TE,TE,TE , Pressure rate: 1.0\n",
      "Positions in motion: WR,RB,WR,TE , Pressure rate: 0.0\n",
      "Positions in motion: WR,RB,WR,WR,TE , Pressure rate: 0.0\n",
      "Positions in motion: RB,FB,WR , Pressure rate: 0.0\n",
      "Positions in motion: TE,TE,RB,TE , Pressure rate: 0.0\n",
      "Positions in motion: WR,WR,WR,TE,RB , Pressure rate: 1.0\n",
      "Positions in motion: TE,RB,WR,WR , Pressure rate: 0.0\n",
      "Positions in motion: TE,RB,TE,WR,TE , Pressure rate: 0.0\n",
      "Positions in motion: None , Pressure rate: 0.19408188807437868\n"
     ]
    }
   ],
   "source": [
    "# Find pressure rate for each combo of motion positions\n",
    "for combo in positionsInMotion:\n",
    "    print(\"Positions in motion: \" + str(combo) + \" , Pressure rate: \" + \n",
    "          str(calcBooleanRate(player_play[player_play['positionsInMotionStr'] == combo], 'causedPressure')))"
   ]
  }
 ],
 "metadata": {
  "language_info": {
   "name": "python"
  }
 },
 "nbformat": 4,
 "nbformat_minor": 2
}
